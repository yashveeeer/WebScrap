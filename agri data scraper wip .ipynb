{
 "cells": [
  {
   "cell_type": "code",
   "execution_count": 2,
   "id": "8da7b68a",
   "metadata": {},
   "outputs": [
    {
     "name": "stdout",
     "output_type": "stream",
     "text": [
      "Requirement already satisfied: selenium in c:\\users\\library\\anaconda3\\lib\\site-packages (4.11.2)\n",
      "Requirement already satisfied: urllib3[socks]<3,>=1.26 in c:\\users\\library\\anaconda3\\lib\\site-packages (from selenium) (1.26.16)\n",
      "Requirement already satisfied: trio~=0.17 in c:\\users\\library\\anaconda3\\lib\\site-packages (from selenium) (0.22.2)\n",
      "Requirement already satisfied: trio-websocket~=0.9 in c:\\users\\library\\anaconda3\\lib\\site-packages (from selenium) (0.10.3)\n",
      "Requirement already satisfied: certifi>=2021.10.8 in c:\\users\\library\\anaconda3\\lib\\site-packages (from selenium) (2023.5.7)\n",
      "Requirement already satisfied: attrs>=20.1.0 in c:\\users\\library\\anaconda3\\lib\\site-packages (from trio~=0.17->selenium) (22.1.0)\n",
      "Requirement already satisfied: sortedcontainers in c:\\users\\library\\anaconda3\\lib\\site-packages (from trio~=0.17->selenium) (2.4.0)\n",
      "Requirement already satisfied: idna in c:\\users\\library\\anaconda3\\lib\\site-packages (from trio~=0.17->selenium) (3.4)\n",
      "Requirement already satisfied: outcome in c:\\users\\library\\anaconda3\\lib\\site-packages (from trio~=0.17->selenium) (1.2.0)\n",
      "Requirement already satisfied: sniffio in c:\\users\\library\\anaconda3\\lib\\site-packages (from trio~=0.17->selenium) (1.2.0)\n",
      "Requirement already satisfied: cffi>=1.14 in c:\\users\\library\\anaconda3\\lib\\site-packages (from trio~=0.17->selenium) (1.15.1)\n",
      "Requirement already satisfied: exceptiongroup in c:\\users\\library\\anaconda3\\lib\\site-packages (from trio-websocket~=0.9->selenium) (1.1.2)\n",
      "Requirement already satisfied: wsproto>=0.14 in c:\\users\\library\\anaconda3\\lib\\site-packages (from trio-websocket~=0.9->selenium) (1.2.0)\n",
      "Requirement already satisfied: PySocks!=1.5.7,<2.0,>=1.5.6 in c:\\users\\library\\anaconda3\\lib\\site-packages (from urllib3[socks]<3,>=1.26->selenium) (1.7.1)\n",
      "Requirement already satisfied: pycparser in c:\\users\\library\\anaconda3\\lib\\site-packages (from cffi>=1.14->trio~=0.17->selenium) (2.21)\n",
      "Requirement already satisfied: h11<1,>=0.9.0 in c:\\users\\library\\anaconda3\\lib\\site-packages (from wsproto>=0.14->trio-websocket~=0.9->selenium) (0.14.0)\n"
     ]
    }
   ],
   "source": [
    "! pip install selenium\n",
    "from selenium import webdriver\n",
    "from selenium.webdriver.support.select import Select\n",
    "from selenium.webdriver.common.by import By\n",
    "from selenium.webdriver.common.keys import Keys\n",
    "from selenium.webdriver import Chrome\n",
    "from selenium.webdriver.common.action_chains import ActionChains"
   ]
  },
  {
   "cell_type": "code",
   "execution_count": 28,
   "id": "2c20b81e",
   "metadata": {},
   "outputs": [],
   "source": [
    "chrome_options = webdriver.ChromeOptions()\n",
    "chrome_options.binary_location = r\"C:\\Users\\Library\\Downloads\\chromedriver-win64\\chromedriver-win64\\chromedriver.exe\""
   ]
  },
  {
   "cell_type": "code",
   "execution_count": 31,
   "id": "84016b57",
   "metadata": {},
   "outputs": [],
   "source": [
    "# Create the Chrome WebDriver with the defined options\n",
    "driver = webdriver.Chrome(options=chrome_options)\n",
    "\n",
    "# Opening the site\n",
    "driver.get(\"https://agcensus.dacnet.nic.in/DistSizeClass.aspx\")"
   ]
  },
  {
   "cell_type": "code",
   "execution_count": 34,
   "id": "7cad8137",
   "metadata": {},
   "outputs": [],
   "source": [
    "from selenium import webdriver\n",
    "from selenium.webdriver.common.by import By\n",
    "from selenium.webdriver.support.ui import Select\n",
    "from selenium.webdriver.support.ui import WebDriverWait\n",
    "from selenium.webdriver.support import expected_conditions as EC\n",
    "from selenium.webdriver.common.action_chains import ActionChains"
   ]
  },
  {
   "cell_type": "code",
   "execution_count": 38,
   "id": "163864ae",
   "metadata": {},
   "outputs": [
    {
     "ename": "TypeError",
     "evalue": "object of type 'WebElement' has no len()",
     "output_type": "error",
     "traceback": [
      "\u001b[1;31m---------------------------------------------------------------------------\u001b[0m",
      "\u001b[1;31mTypeError\u001b[0m                                 Traceback (most recent call last)",
      "Cell \u001b[1;32mIn[38], line 36\u001b[0m\n\u001b[0;32m     33\u001b[0m options \u001b[38;5;241m=\u001b[39m button\u001b[38;5;241m.\u001b[39mfind_element(By\u001b[38;5;241m.\u001b[39mTAG_NAME, \u001b[38;5;124m'\u001b[39m\u001b[38;5;124moption\u001b[39m\u001b[38;5;124m'\u001b[39m)\n\u001b[0;32m     35\u001b[0m \u001b[38;5;66;03m# Get the number of items in the dropdown\u001b[39;00m\n\u001b[1;32m---> 36\u001b[0m num_items \u001b[38;5;241m=\u001b[39m \u001b[38;5;28mlen\u001b[39m(options)\u001b[38;5;241m+\u001b[39m\u001b[38;5;241m1\u001b[39m\n\u001b[0;32m     37\u001b[0m \u001b[38;5;28;01mfor\u001b[39;00m j \u001b[38;5;129;01min\u001b[39;00m \u001b[38;5;28mrange\u001b[39m(\u001b[38;5;241m1\u001b[39m,num_items):\n\u001b[0;32m     38\u001b[0m     element \u001b[38;5;241m=\u001b[39m driver\u001b[38;5;241m.\u001b[39mfind_element(By\u001b[38;5;241m.\u001b[39mXPATH,\u001b[38;5;124m'\u001b[39m\u001b[38;5;124m//*[@id=\u001b[39m\u001b[38;5;124m\"\u001b[39m\u001b[38;5;124m_ctl0_ContentPlaceHolder1_ddlState\u001b[39m\u001b[38;5;124m\"\u001b[39m\u001b[38;5;124m]/option[\u001b[39m\u001b[38;5;124m'\u001b[39m\u001b[38;5;241m+\u001b[39m\u001b[38;5;28mstr\u001b[39m(j)\u001b[38;5;241m+\u001b[39m\u001b[38;5;124m'\u001b[39m\u001b[38;5;124m]\u001b[39m\u001b[38;5;124m'\u001b[39m)\n",
      "\u001b[1;31mTypeError\u001b[0m: object of type 'WebElement' has no len()"
     ]
    }
   ],
   "source": [
    "# button = driver.find_element(By.XPATH,'//*[@id=\"_ctl0_ContentPlaceHolder1_rbtSizeGroup\"]')\n",
    "# driver.implicitly_wait(10)\n",
    "# ActionChains(driver).move_to_element(button).click(button).perform()\n",
    "\n",
    "# clicking on the dropdown option for states and UTs\n",
    "for i in range(1,7):\n",
    "    \n",
    "    button = driver.find_element(By.XPATH,'//*[@id=\"_ctl0_ContentPlaceHolder1_DropDownList5\"]')\n",
    "    driver.implicitly_wait(10)\n",
    "    ActionChains(driver).move_to_element(button).click(button).perform()\n",
    "    driver.implicitly_wait(10)\n",
    "    element = driver.find_element(By.XPATH,'//*[@id=\"_ctl0_ContentPlaceHolder1_DropDownList5\"]/option['+str(i)+']')\n",
    "    if element.is_enabled():\n",
    "        # The element is enabled, so it can be interacted with\n",
    "        element.click()\n",
    "    else:\n",
    "        print(\"The element is not interactable.\")\n",
    "    for k in range(1,5):\n",
    "        button = driver.find_element(By.XPATH,'//*[@id=\"_ctl0_ContentPlaceHolder1_ddlYear\"]')\n",
    "        driver.implicitly_wait(10)\n",
    "        ActionChains(driver).move_to_element(button).click(button).perform()\n",
    "        driver.implicitly_wait(10)\n",
    "        element = driver.find_element(By.XPATH,'//*[@id=\"_ctl0_ContentPlaceHolder1_ddlYear\"]/option['+str(k)+']')\n",
    "        if element.is_enabled():\n",
    "            # The element is enabled, so it can be interacted with\n",
    "            element.click()\n",
    "        else:\n",
    "            print(\"The element is not interactable.\")\n",
    "        button = driver.find_element(By.XPATH,'//*[@id=\"_ctl0_ContentPlaceHolder1_ddlState\"]')\n",
    "        driver.implicitly_wait(10)\n",
    "        ActionChains(driver).move_to_element(button).click(button).perform()\n",
    "        driver.implicitly_wait(10)\n",
    "        options = button.find_element(By.TAG_NAME, 'option')\n",
    "\n",
    "        # Get the number of items in the dropdown\n",
    "        num_items = len(options)+1\n",
    "        for j in range(1,num_items):\n",
    "            element = driver.find_element(By.XPATH,'//*[@id=\"_ctl0_ContentPlaceHolder1_ddlState\"]/option['+str(j)+']')\n",
    "            if element.is_enabled():\n",
    "                # The element is enabled, so it can be interacted with\n",
    "                element.click()\n",
    "            else:\n",
    "                print(\"The element is not interactable.\")\n",
    "            button = driver.find_element(By.XPATH,'//*[@id=\"_ctl0_ContentPlaceHolder1_ddlDistrict\"]')\n",
    "            driver.implicitly_wait(10)\n",
    "            ActionChains(driver).move_to_element(button).click(button).perform()\n",
    "            driver.implicitly_wait(10)\n",
    "            options = button.find_element(By.TAG_NAME, 'option')\n",
    "            # Get the number of items in the dropdown\n",
    "            num_items1 = len(options)+1\n",
    "            for l in range(1,num_items1):\n",
    "                element = driver.find_element(By.XPATH,'//*[@id=\"_ctl0_ContentPlaceHolder1_ddlDistrict\"]/option['+str(l)+']')\n",
    "                if element.is_enabled():\n",
    "                    # The element is enabled, so it can be interacted with\n",
    "                    element.click()\n",
    "                button = driver.find_element(By.XPATH,'//*[@id=\"_ctl0_ContentPlaceHolder1_ddlSocialGroup\"]')\n",
    "                driver.implicitly_wait(10)\n",
    "                ActionChains(driver).move_to_element(button).click(button).perform()\n",
    "                driver.implicitly_wait(10)\n",
    "                for p in range(1,5):\n",
    "                    element = driver.find_element(By.XPATH,'//*[@id=\"_ctl0_ContentPlaceHolder1_ddlSocialGroup\"]/option['+str(p)+']')\n",
    "                    if element.is_enabled():\n",
    "                        # The element is enabled, so it can be interacted with\n",
    "                        element.click()\n",
    "                    else:\n",
    "                        print(\"The element is not interactable.\")   \n",
    "                    button = driver.find_element(By.XPATH,'//*[@id=\"_ctl0_ContentPlaceHolder1_ddlTables\"]')\n",
    "                    driver.implicitly_wait(10)\n",
    "                    ActionChains(driver).move_to_element(button).click(button).perform()\n",
    "                    driver.implicitly_wait(10)\n",
    "                    lis=[3,4,7]\n",
    "                    for o in lis:\n",
    "                        element = driver.find_element(By.XPATH,'//*[@id=\"_ctl0_ContentPlaceHolder1_ddlTables\"]/option['+str(o)+']')\n",
    "                        if element.is_enabled():\n",
    "                            # The element is enabled, so it can be interacted with\n",
    "                            element.click()\n",
    "                        else:\n",
    "                            print(\"The element is not interactable.\")\n",
    "                    button = driver.find_element(By.XPATH,'//*[@id=\"_ctl0_ContentPlaceHolder1_btnSubmit\"]')\n",
    "                    driver.implicitly_wait(10)\n",
    "                    ActionChains(driver).move_to_element(button).click(button).perform()\n",
    "                    button = driver.find_element(By.XPATH,'//*[@id=\"ReportViewer1_ctl5ctl4_ctl0_ButtonImgDown\"]')\n",
    "                    driver.implicitly_wait(10)\n",
    "                    ActionChains(driver).move_to_element(button).click(button).perform()\n",
    "                    element = driver.find_element(By.XPATH,'//*[@id=\"ReportViewer1_ctl5ctl4_ctl0_Menu\"]/div[7]')\n",
    "                    if element.is_enabled():\n",
    "                        # The element is enabled, so it can be interacted with\n",
    "                        element.click()\n",
    "                    else:\n",
    "                        print(\"The element is not interactable.\")\n",
    "                    button = driver.find_element(By.XPATH,'//*[@id=\"btnHome\"]')\n",
    "                    driver.implicitly_wait(10)\n",
    "                    ActionChains(driver).move_to_element(button).click(button).perform()\n",
    "                    \n",
    "                    button = driver.find_element(By.XPATH,'//*[@id=\"dropdown-c\"]')\n",
    "                    driver.implicitly_wait(10)\n",
    "                    ActionChains(driver).move_to_element(button).click(button).perform()\n",
    "                    element = driver.find_element(By.XPATH,'//*[@id=\"navbars-host\"]/ul/li[4]/div/a[4]')\n",
    "                    if element.is_enabled():\n",
    "                        # The element is enabled, so it can be interacted with\n",
    "                        element.click()\n",
    "                    else:\n",
    "                        print(\"The element is not interactable.\")\n",
    "                    button = driver.find_element(By.XPATH,'//*[@id=\"_ctl0_ContentPlaceHolder1_rbtSizeGroup\"]')\n",
    "                    driver.implicitly_wait(10)\n",
    "                    ActionChains(driver).move_to_element(button).click(button).perform()"
   ]
  },
  {
   "cell_type": "code",
   "execution_count": null,
   "id": "802fca0f",
   "metadata": {},
   "outputs": [],
   "source": []
  }
 ],
 "metadata": {
  "kernelspec": {
   "display_name": "Python 3 (ipykernel)",
   "language": "python",
   "name": "python3"
  },
  "language_info": {
   "codemirror_mode": {
    "name": "ipython",
    "version": 3
   },
   "file_extension": ".py",
   "mimetype": "text/x-python",
   "name": "python",
   "nbconvert_exporter": "python",
   "pygments_lexer": "ipython3",
   "version": "3.11.3"
  }
 },
 "nbformat": 4,
 "nbformat_minor": 5
}
