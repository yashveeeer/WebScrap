{
 "cells": [
  {
   "cell_type": "code",
   "execution_count": 7,
   "id": "4f5b9d37",
   "metadata": {},
   "outputs": [
    {
     "name": "stdout",
     "output_type": "stream",
     "text": [
      "Requirement already satisfied: selenium in c:\\users\\library\\anaconda3\\envs\\notebook\\lib\\site-packages (4.11.2)\n",
      "Requirement already satisfied: urllib3[socks]<3,>=1.26 in c:\\users\\library\\anaconda3\\envs\\notebook\\lib\\site-packages (from selenium) (2.0.4)\n",
      "Requirement already satisfied: trio~=0.17 in c:\\users\\library\\anaconda3\\envs\\notebook\\lib\\site-packages (from selenium) (0.22.2)\n",
      "Requirement already satisfied: trio-websocket~=0.9 in c:\\users\\library\\anaconda3\\envs\\notebook\\lib\\site-packages (from selenium) (0.10.3)\n",
      "Requirement already satisfied: certifi>=2021.10.8 in c:\\users\\library\\anaconda3\\envs\\notebook\\lib\\site-packages (from selenium) (2023.7.22)\n",
      "Requirement already satisfied: attrs>=20.1.0 in c:\\users\\library\\anaconda3\\envs\\notebook\\lib\\site-packages (from trio~=0.17->selenium) (22.1.0)\n",
      "Requirement already satisfied: sortedcontainers in c:\\users\\library\\anaconda3\\envs\\notebook\\lib\\site-packages (from trio~=0.17->selenium) (2.4.0)\n",
      "Requirement already satisfied: idna in c:\\users\\library\\anaconda3\\envs\\notebook\\lib\\site-packages (from trio~=0.17->selenium) (3.4)\n",
      "Requirement already satisfied: outcome in c:\\users\\library\\anaconda3\\envs\\notebook\\lib\\site-packages (from trio~=0.17->selenium) (1.2.0)\n",
      "Requirement already satisfied: sniffio in c:\\users\\library\\anaconda3\\envs\\notebook\\lib\\site-packages (from trio~=0.17->selenium) (1.3.0)\n",
      "Requirement already satisfied: cffi>=1.14 in c:\\users\\library\\anaconda3\\envs\\notebook\\lib\\site-packages (from trio~=0.17->selenium) (1.15.1)\n",
      "Requirement already satisfied: exceptiongroup>=1.0.0rc9 in c:\\users\\library\\anaconda3\\envs\\notebook\\lib\\site-packages (from trio~=0.17->selenium) (1.1.2)\n",
      "Requirement already satisfied: wsproto>=0.14 in c:\\users\\library\\anaconda3\\envs\\notebook\\lib\\site-packages (from trio-websocket~=0.9->selenium) (1.2.0)\n",
      "Requirement already satisfied: pysocks!=1.5.7,<2.0,>=1.5.6 in c:\\users\\library\\anaconda3\\envs\\notebook\\lib\\site-packages (from urllib3[socks]<3,>=1.26->selenium) (1.7.1)\n",
      "Requirement already satisfied: pycparser in c:\\users\\library\\anaconda3\\envs\\notebook\\lib\\site-packages (from cffi>=1.14->trio~=0.17->selenium) (2.21)\n",
      "Requirement already satisfied: h11<1,>=0.9.0 in c:\\users\\library\\anaconda3\\envs\\notebook\\lib\\site-packages (from wsproto>=0.14->trio-websocket~=0.9->selenium) (0.14.0)\n"
     ]
    }
   ],
   "source": [
    "! pip install selenium\n",
    "from selenium import webdriver\n",
    "from selenium.webdriver.support.select import Select\n",
    "from selenium.webdriver.common.by import By\n",
    "from selenium.webdriver.common.keys import Keys\n",
    "from selenium.webdriver import Chrome\n",
    "from selenium.webdriver.common.action_chains import ActionChains"
   ]
  },
  {
   "cell_type": "code",
   "execution_count": 10,
   "id": "4e3e7079",
   "metadata": {},
   "outputs": [],
   "source": [
    "chrome_options = webdriver.ChromeOptions()\n",
    "chrome_options.binary_location = r\"C:\\Users\\Library\\Downloads\\chromedriver-win64\\chromedriver-win64\\chromedriver.exe\""
   ]
  },
  {
   "cell_type": "code",
   "execution_count": 11,
   "id": "c689cc4e",
   "metadata": {},
   "outputs": [],
   "source": [
    "# Create the Chrome WebDriver with the defined options\n",
    "driver = webdriver.Chrome(options=chrome_options)\n",
    "\n",
    "# Opening the site\n",
    "driver.get(\"https://agcensus.dacnet.nic.in/DistSizeClass.aspx\")"
   ]
  },
  {
   "cell_type": "code",
   "execution_count": 14,
   "id": "98def8c6",
   "metadata": {},
   "outputs": [
    {
     "ename": "AttributeError",
     "evalue": "move_to requires a WebElement",
     "output_type": "error",
     "traceback": [
      "\u001b[1;31m---------------------------------------------------------------------------\u001b[0m",
      "\u001b[1;31mAttributeError\u001b[0m                            Traceback (most recent call last)",
      "Cell \u001b[1;32mIn[14], line 85\u001b[0m\n\u001b[0;32m     83\u001b[0m button \u001b[38;5;241m=\u001b[39m driver\u001b[38;5;241m.\u001b[39mfind_element(By\u001b[38;5;241m.\u001b[39mXPATH,\u001b[38;5;124m'\u001b[39m\u001b[38;5;124m//*[@id=\u001b[39m\u001b[38;5;124m\"\u001b[39m\u001b[38;5;124mReportViewer1_ctl5ctl4_ctl0_ButtonImgDown\u001b[39m\u001b[38;5;124m\"\u001b[39m\u001b[38;5;124m]\u001b[39m\u001b[38;5;124m'\u001b[39m)\n\u001b[0;32m     84\u001b[0m driver\u001b[38;5;241m.\u001b[39mimplicitly_wait(\u001b[38;5;241m10\u001b[39m)\n\u001b[1;32m---> 85\u001b[0m \u001b[43mActionChains\u001b[49m\u001b[43m(\u001b[49m\u001b[43mdriver\u001b[49m\u001b[43m)\u001b[49m\u001b[38;5;241;43m.\u001b[39;49m\u001b[43mmove_to_element\u001b[49m\u001b[43m(\u001b[49m\u001b[43mbutton\u001b[49m\u001b[43m)\u001b[49m\u001b[38;5;241m.\u001b[39mclick(button)\u001b[38;5;241m.\u001b[39mperform()\n\u001b[0;32m     86\u001b[0m element \u001b[38;5;241m=\u001b[39m driver\u001b[38;5;241m.\u001b[39mfind_element(By\u001b[38;5;241m.\u001b[39mXPATH,\u001b[38;5;124m'\u001b[39m\u001b[38;5;124m//*[@id=\u001b[39m\u001b[38;5;124m\"\u001b[39m\u001b[38;5;124mReportViewer1_ctl5ctl4_ctl0_Menu\u001b[39m\u001b[38;5;124m\"\u001b[39m\u001b[38;5;124m]/div[7]\u001b[39m\u001b[38;5;124m'\u001b[39m)\n\u001b[0;32m     87\u001b[0m \u001b[38;5;28;01mif\u001b[39;00m element\u001b[38;5;241m.\u001b[39mis_enabled():\n\u001b[0;32m     88\u001b[0m     \u001b[38;5;66;03m# The element is enabled, so it can be interacted with\u001b[39;00m\n",
      "File \u001b[1;32m~\\anaconda3\\envs\\notebook\\lib\\site-packages\\selenium\\webdriver\\common\\action_chains.py:262\u001b[0m, in \u001b[0;36mActionChains.move_to_element\u001b[1;34m(self, to_element)\u001b[0m\n\u001b[0;32m    255\u001b[0m \u001b[38;5;28;01mdef\u001b[39;00m \u001b[38;5;21mmove_to_element\u001b[39m(\u001b[38;5;28mself\u001b[39m, to_element: WebElement) \u001b[38;5;241m-\u001b[39m\u001b[38;5;241m>\u001b[39m \u001b[38;5;124m\"\u001b[39m\u001b[38;5;124mActionChains\u001b[39m\u001b[38;5;124m\"\u001b[39m:\n\u001b[0;32m    256\u001b[0m \u001b[38;5;250m    \u001b[39m\u001b[38;5;124;03m\"\"\"Moving the mouse to the middle of an element.\u001b[39;00m\n\u001b[0;32m    257\u001b[0m \n\u001b[0;32m    258\u001b[0m \u001b[38;5;124;03m    :Args:\u001b[39;00m\n\u001b[0;32m    259\u001b[0m \u001b[38;5;124;03m     - to_element: The WebElement to move to.\u001b[39;00m\n\u001b[0;32m    260\u001b[0m \u001b[38;5;124;03m    \"\"\"\u001b[39;00m\n\u001b[1;32m--> 262\u001b[0m     \u001b[38;5;28;43mself\u001b[39;49m\u001b[38;5;241;43m.\u001b[39;49m\u001b[43mw3c_actions\u001b[49m\u001b[38;5;241;43m.\u001b[39;49m\u001b[43mpointer_action\u001b[49m\u001b[38;5;241;43m.\u001b[39;49m\u001b[43mmove_to\u001b[49m\u001b[43m(\u001b[49m\u001b[43mto_element\u001b[49m\u001b[43m)\u001b[49m\n\u001b[0;32m    263\u001b[0m     \u001b[38;5;28mself\u001b[39m\u001b[38;5;241m.\u001b[39mw3c_actions\u001b[38;5;241m.\u001b[39mkey_action\u001b[38;5;241m.\u001b[39mpause()\n\u001b[0;32m    265\u001b[0m     \u001b[38;5;28;01mreturn\u001b[39;00m \u001b[38;5;28mself\u001b[39m\n",
      "File \u001b[1;32m~\\anaconda3\\envs\\notebook\\lib\\site-packages\\selenium\\webdriver\\common\\actions\\pointer_actions.py:88\u001b[0m, in \u001b[0;36mPointerActions.move_to\u001b[1;34m(self, element, x, y, width, height, pressure, tangential_pressure, tilt_x, tilt_y, twist, altitude_angle, azimuth_angle)\u001b[0m\n\u001b[0;32m     72\u001b[0m \u001b[38;5;28;01mdef\u001b[39;00m \u001b[38;5;21mmove_to\u001b[39m(\n\u001b[0;32m     73\u001b[0m     \u001b[38;5;28mself\u001b[39m,\n\u001b[0;32m     74\u001b[0m     element,\n\u001b[1;32m   (...)\u001b[0m\n\u001b[0;32m     85\u001b[0m     azimuth_angle\u001b[38;5;241m=\u001b[39m\u001b[38;5;28;01mNone\u001b[39;00m,\n\u001b[0;32m     86\u001b[0m ):\n\u001b[0;32m     87\u001b[0m     \u001b[38;5;28;01mif\u001b[39;00m \u001b[38;5;129;01mnot\u001b[39;00m \u001b[38;5;28misinstance\u001b[39m(element, WebElement):\n\u001b[1;32m---> 88\u001b[0m         \u001b[38;5;28;01mraise\u001b[39;00m \u001b[38;5;167;01mAttributeError\u001b[39;00m(\u001b[38;5;124m\"\u001b[39m\u001b[38;5;124mmove_to requires a WebElement\u001b[39m\u001b[38;5;124m\"\u001b[39m)\n\u001b[0;32m     90\u001b[0m     \u001b[38;5;28mself\u001b[39m\u001b[38;5;241m.\u001b[39msource\u001b[38;5;241m.\u001b[39mcreate_pointer_move(\n\u001b[0;32m     91\u001b[0m         origin\u001b[38;5;241m=\u001b[39melement,\n\u001b[0;32m     92\u001b[0m         duration\u001b[38;5;241m=\u001b[39m\u001b[38;5;28mself\u001b[39m\u001b[38;5;241m.\u001b[39m_duration,\n\u001b[1;32m   (...)\u001b[0m\n\u001b[0;32m    103\u001b[0m         azimuth_angle\u001b[38;5;241m=\u001b[39mazimuth_angle,\n\u001b[0;32m    104\u001b[0m     )\n\u001b[0;32m    105\u001b[0m     \u001b[38;5;28;01mreturn\u001b[39;00m \u001b[38;5;28mself\u001b[39m\n",
      "\u001b[1;31mAttributeError\u001b[0m: move_to requires a WebElement"
     ]
    }
   ],
   "source": [
    "# button = driver.find_element(By.XPATH,'//*[@id=\"_ctl0_ContentPlaceHolder1_rbtSizeGroup\"]')\n",
    "# driver.implicitly_wait(10)\n",
    "# ActionChains(driver).move_to_element(button).click(button).perform()\n",
    "\n",
    "# clicking on the dropdown option for states and UTs\n",
    "for i in range(1,7):\n",
    "    \n",
    "    button = driver.find_element(By.XPATH,'//*[@id=\"_ctl0_ContentPlaceHolder1_DropDownList5\"]')\n",
    "    driver.implicitly_wait(10)\n",
    "    ActionChains(driver).move_to_element(button).click(button).perform()\n",
    "    driver.implicitly_wait(10)\n",
    "    element = driver.find_element(By.XPATH,'//*[@id=\"_ctl0_ContentPlaceHolder1_DropDownList5\"]/option['+str(i)+']')\n",
    "    if element.is_enabled():\n",
    "        # The element is enabled, so it can be interacted with\n",
    "        element.click()\n",
    "    else:\n",
    "        print(\"The element is not interactable.\")\n",
    "    for k in range(1,5):\n",
    "        button = driver.find_element(By.XPATH,'//*[@id=\"_ctl0_ContentPlaceHolder1_ddlYear\"]')\n",
    "        driver.implicitly_wait(10)\n",
    "        ActionChains(driver).move_to_element(button).click(button).perform()\n",
    "        driver.implicitly_wait(10)\n",
    "        element = driver.find_element(By.XPATH,'//*[@id=\"_ctl0_ContentPlaceHolder1_ddlYear\"]/option['+str(k)+']')\n",
    "        if element.is_enabled():\n",
    "            # The element is enabled, so it can be interacted with\n",
    "            element.click()\n",
    "        else:\n",
    "            print(\"The element is not interactable.\")\n",
    "        button = driver.find_element(By.XPATH,'//*[@id=\"_ctl0_ContentPlaceHolder1_ddlState\"]')\n",
    "        driver.implicitly_wait(10)\n",
    "        ActionChains(driver).move_to_element(button).click(button).perform()\n",
    "        driver.implicitly_wait(10)\n",
    "        options = button.find_elements(By.TAG_NAME, 'option')\n",
    "\n",
    "        # Get the number of items in the dropdown\n",
    "        num_items = len(options)+1\n",
    "        for j in range(1,num_items):\n",
    "            element = driver.find_element(By.XPATH,'//*[@id=\"_ctl0_ContentPlaceHolder1_ddlState\"]/option['+str(j)+']')\n",
    "            if element.is_enabled():\n",
    "                # The element is enabled, so it can be interacted with\n",
    "                element.click()\n",
    "            else:\n",
    "                print(\"The element is not interactable.\")\n",
    "            button = driver.find_element(By.XPATH,'//*[@id=\"_ctl0_ContentPlaceHolder1_ddlDistrict\"]')\n",
    "            driver.implicitly_wait(10)\n",
    "            ActionChains(driver).move_to_element(button).click(button).perform()\n",
    "            driver.implicitly_wait(10)\n",
    "            options = button.find_elements(By.TAG_NAME, 'option')\n",
    "\n",
    "            # Get the number of items in the dropdown\n",
    "            num_items1 = len(options)+1\n",
    "            for l in range(1,num_items1):\n",
    "                element = driver.find_element(By.XPATH,'//*[@id=\"_ctl0_ContentPlaceHolder1_ddlDistrict\"]/option['+str(l)+']')\n",
    "                if element.is_enabled():\n",
    "                    # The element is enabled, so it can be interacted with\n",
    "                    element.click()\n",
    "                button = driver.find_element(By.XPATH,'//*[@id=\"_ctl0_ContentPlaceHolder1_ddlSocialGroup\"]')\n",
    "                driver.implicitly_wait(10)\n",
    "                ActionChains(driver).move_to_element(button).click(button).perform()\n",
    "                driver.implicitly_wait(10)\n",
    "                for p in range(1,5):\n",
    "                    element = driver.find_element(By.XPATH,'//*[@id=\"_ctl0_ContentPlaceHolder1_ddlSocialGroup\"]/option['+str(p)+']')\n",
    "                    if element.is_enabled():\n",
    "                        # The element is enabled, so it can be interacted with\n",
    "                        element.click()\n",
    "                    else:\n",
    "                        print(\"The element is not interactable.\")   \n",
    "                    button = driver.find_element(By.XPATH,'//*[@id=\"_ctl0_ContentPlaceHolder1_ddlTables\"]')\n",
    "                    driver.implicitly_wait(10)\n",
    "                    ActionChains(driver).move_to_element(button).click(button).perform()\n",
    "                    driver.implicitly_wait(10)\n",
    "                    lis=[3,4,7]\n",
    "                    for o in lis:\n",
    "                        element = driver.find_element(By.XPATH,'//*[@id=\"_ctl0_ContentPlaceHolder1_ddlTables\"]/option['+str(o)+']')\n",
    "                        if element.is_enabled():\n",
    "                            # The element is enabled, so it can be interacted with\n",
    "                            element.click()\n",
    "                        else:\n",
    "                            print(\"The element is not interactable.\")\n",
    "                    button = driver.find_element(By.XPATH,'//*[@id=\"_ctl0_ContentPlaceHolder1_btnSubmit\"]')\n",
    "                    driver.implicitly_wait(10)\n",
    "                    ActionChains(driver).move_to_element(button).click(button).perform()\n",
    "                    button = driver.find_element(By.XPATH,'//*[@id=\"ReportViewer1_ctl5ctl4_ctl0_ButtonImgDown\"]')\n",
    "                    driver.implicitly_wait(10)\n",
    "                    ActionChains(driver).move_to_element(button).click(button).perform()\n",
    "                    element = driver.find_element(By.XPATH,'//*[@id=\"ReportViewer1_ctl5ctl4_ctl0_Menu\"]/div[7]')\n",
    "                    if element.is_enabled():\n",
    "                        # The element is enabled, so it can be interacted with\n",
    "                        element.click()\n",
    "                    else:\n",
    "                        print(\"The element is not interactable.\")\n",
    "                    button = driver.find_element(By.XPATH,'//*[@id=\"btnHome\"]')\n",
    "                    driver.implicitly_wait(10)\n",
    "                    ActionChains(driver).move_to_element(button).click(button).perform()\n",
    "                    \n",
    "                    button = driver.find_element(By.XPATH,'//*[@id=\"dropdown-c\"]')\n",
    "                    driver.implicitly_wait(10)\n",
    "                    ActionChains(driver).move_to_element(button).click(button).perform()\n",
    "                    element = driver.find_element(By.XPATH,'//*[@id=\"navbars-host\"]/ul/li[4]/div/a[4]')\n",
    "                    if element.is_enabled():\n",
    "                        # The element is enabled, so it can be interacted with\n",
    "                        element.click()\n",
    "                    else:\n",
    "                        print(\"The element is not interactable.\")\n",
    "                    button = driver.find_element(By.XPATH,'//*[@id=\"_ctl0_ContentPlaceHolder1_rbtSizeGroup\"]')\n",
    "                    driver.implicitly_wait(10)\n",
    "                    ActionChains(driver).move_to_element(button).click(button).perform()"
   ]
  },
  {
   "cell_type": "code",
   "execution_count": null,
   "id": "9bc59c2e",
   "metadata": {},
   "outputs": [],
   "source": [
    "driver.quit()"
   ]
  }
 ],
 "metadata": {
  "kernelspec": {
   "display_name": "Python 3 (ipykernel)",
   "language": "python",
   "name": "python3"
  },
  "language_info": {
   "codemirror_mode": {
    "name": "ipython",
    "version": 3
   },
   "file_extension": ".py",
   "mimetype": "text/x-python",
   "name": "python",
   "nbconvert_exporter": "python",
   "pygments_lexer": "ipython3",
   "version": "3.10.12"
  }
 },
 "nbformat": 4,
 "nbformat_minor": 5
}
